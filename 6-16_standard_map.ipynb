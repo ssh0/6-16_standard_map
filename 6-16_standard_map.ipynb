{
 "metadata": {
  "name": "",
  "signature": "sha256:56b66ce79060a3c0de41a1855c132128df4d4e7120500e47bb5ef7284a5dec62"
 },
 "nbformat": 3,
 "nbformat_minor": 0,
 "worksheets": [
  {
   "cells": [
    {
     "cell_type": "heading",
     "level": 1,
     "metadata": {},
     "source": [
      "\u8a08\u7b97\u6a5f\u5b9f\u7fd2\u8ab2\u984c \u554f\u984c6.14 \u6a19\u6e96\u5199\u50cf"
     ]
    },
    {
     "cell_type": "heading",
     "level": 2,
     "metadata": {},
     "source": [
      "\u30b7\u30df\u30e5\u30ec\u30fc\u30b7\u30e7\u30f3\u306e\u76ee\u7684"
     ]
    },
    {
     "cell_type": "markdown",
     "metadata": {},
     "source": [
      "\u6a19\u6e96\u5199\u50cf\n",
      "\n",
      "\\begin{equation}\n",
      "    \\theta_{n+1} = (\\theta_{n} + p_{n}) \\mathrm{modulo} 2\\pi\n",
      "\\end{equation}\n",
      "\n",
      "\\begin{equation}\n",
      "    p_{n+1} = p_{n} + k \\sin \\theta_{n+1}\n",
      "\\end{equation}\n",
      "\n",
      "\u306f\u3001\u30cf\u30df\u30eb\u30c8\u30f3\u7cfb\u306e\u4e2d\u3067\u3082\u3001\u3042\u308b\u521d\u671f\u72b6\u614b\u3067\u306f\u898f\u5247\u7684\u3067\u53ef\u7a4d\u5206\u3067\u3042\u308b\u304c\u4ed6\u306e\u6761\u4ef6\u3067\u306f\u30ab\u30aa\u30b9\u7684\u306b\u306a\u308b\u3068\u3044\u3046\u3001\u6df7\u5408\u7cfb\u3068\u3082\u3044\u3048\u308b\u30af\u30e9\u30b9\u306e\u5358\u7d14\u306a\u30e2\u30c7\u30eb\u3067\u3042\u308b\u3002\u7269\u7406\u7684\u306a\u5b9f\u4f53\u3068\u3057\u3066\u306f\u3001\u56f31\u306b\u793a\u3055\u308c\u3066\u3044\u308b\u3088\u3046\u306a\u56de\u8ee2\u5b50\u3092\u8003\u3048\u3066\u3044\u308b\u3002\u6163\u6027\u30e2\u30fc\u30e1\u30f3\u30c8$I$\u3001\u9577\u3055$L$\u306e\u68d2\u306e\u4e00\u7aef\u304c\u6469\u64e6\u306e\u306a\u3044\u652f\u70b9\u306b\u56fa\u5b9a\u3055\u308c\u3066\u3044\u3066\u3001\u4ed6\u7aef\u306b\u306f\u5f37\u3055$k/L$\u306e\u5468\u671f\u7684\u306a\u6483\u529b\u304c\u3001\u6642\u523b$t=0,\\tau,2\\tau, \\cdots $\u306b\u925b\u76f4\u65b9\u5411\u306b\u52a0\u3048\u3089\u308c\u308b\u3002\u91cd\u529b\u306f\u7121\u8996\u3059\u308b\u3002\u56de\u8ee2\u5b50\u306e\u904b\u52d5\u306f\u89d2\u5ea6$\\theta$\u3068\u305d\u308c\u306b\u5bfe\u5fdc\u3059\u308b\u89d2\u904b\u52d5\u91cf$p_{\\theta}$\u3067\u8a18\u8ff0\u3055\u308c\u308b\u3002\u3053\u306e\u7cfb\u306e\u30cf\u30df\u30eb\u30c8\u30cb\u30a2\u30f3\u306f\n",
      "        \n",
      "\\begin{equation}\n",
      "    H(\\theta, p_{\\theta}, t) = \\frac{p_{\\theta}^{2}}{2I} + k \\cos \\theta \\sum_{n} \\delta (t-n\\tau)\n",
      "\\end{equation}\n",
      "\n",
      "\u3068\u66f8\u304b\u308c\u308b\u3002\u3057\u305f\u304c\u3063\u3066\u3001\u5bfe\u5fdc\u3059\u308b\u904b\u52d5\u65b9\u7a0b\u5f0f\u306f\u3001\u6b63\u6e96\u65b9\u7a0b\u5f0f\u3092\u7528\u3044\u3066\n",
      "\n",
      "\\begin{equation}\n",
      "    \\frac{dp_{\\theta}}{dt} = k\\sin \\theta \\sum_{n} \\delta (t- n\\tau)\n",
      "\\end{equation}\n",
      "\n",
      "\\begin{equation}\n",
      "    \\frac{d\\theta}{dt} = \\frac{p_{\\theta}}{I}\n",
      "\\end{equation}\n",
      "\n",
      "\u3068\u306a\u308b\u3002"
     ]
    },
    {
     "cell_type": "markdown",
     "metadata": {},
     "source": [
      "\u5f0f(1)\u3001(2)\u304b\u3089\u3001$p_{\\theta}$\u306f\u6483\u529b\u3068\u3064\u304e\u306e\u6483\u529b\u306e\u9593\u3067\u306f\u4e00\u5b9a(\u91cd\u529b\u306f\u306a\u3044\u3068\u4eee\u5b9a\u3057\u3066\u3044\u308b)\u3067\u3042\u308b\u304c\u3001\u6483\u529b\u304c\u52a0\u308f\u308b\u3068\u304d\u306b\u4e0d\u9023\u7d9a\u7684\u306b\u5909\u5316\u3059\u308b\u3053\u3068\u304c\u308f\u304b\u308b\u3002\u89d2\u5ea6$\\theta$\u306f\u6483\u529b\u3068\u6483\u529b\u306e\u9593\u3067$t$\u306e1\u6b21\u3067\u5909\u5316\u3057\u3001\u6483\u529b\u304c\u52a0\u308f\u308b\u77ac\u9593\u3067\u306f\u9023\u7d9a\u3067\u3042\u308b\u3002\n",
      "\n",
      "\u6483\u529b\u3092\u52a0\u3048\u305f\u76f4\u5f8c\u306e$\\theta$\u3068$p_{\\theta}$\u306e\u5024\u3092\u6c42\u3081\u308b\u3068\u90fd\u5408\u304c\u3088\u3044\u3002$\\varepsilon>0$\u3092\u5fae\u5c0f\u91cf\u3068\u3057\u3066$t=n\\tau + \\varepsilon$\u306b\u304a\u3051\u308b$\\theta(t)$\u304a\u3088\u3073$p_{\\theta}(t)$\u306e\u5024\u3092\u305d\u308c\u305e\u308c$\\theta_{n}$\u304a\u3088\u3073$p_{n}$\u3068\u3059\u308b\u3002\u5f0f(1)\u3092$t=(n+1)\\tau-\\varepsilon$\u304b\u3089$t=(n+1)\\tau+\\varepsilon$\u307e\u3067\u7a4d\u5206\u3059\u308b\u3068\u3001\n",
      "\\begin{equation}\n",
      "    p_{n+1} - p_{n}= k\\sin \\theta_{n+1}\n",
      "\\end{equation}\n",
      "\n",
      "\u3092\u5f97\u308b\u3002($p$\u306f\u6483\u529b\u3068\u6483\u529b\u306e\u9593\u3067\u4e00\u5b9a\u3067\u3042\u308a\u3001$t=(n+1)\\tau$\u306e\u3068\u304d\u306b\u306e\u307f\u30c7\u30eb\u30bf\u95a2\u6570\u304c\u7a4d\u5206\u306b\u5bc4\u4e0e\u3059\u308b\u3053\u3068\u306b\u6ce8\u610f\u304c\u5fc5\u8981\u3067\u3042\u308b\u3002)\u5f0f(2)\u304b\u3089\n",
      "\n",
      "\\begin{equation}\n",
      "    \\theta_{n+1} - \\theta_{n} = (\\tau/I)p_{n}\n",
      "\\end{equation}\n",
      "\n",
      "\u304c\u5f97\u3089\u308c\u308b\u3002$\\tau/I = 1$\u3068\u306a\u308b\u3088\u3046\u306b\u5358\u4f4d\u3092\u9078\u3076\u3068\u3001\u6a19\u6e96\u5199\u50cf(1),(2)\u304c\u5f97\u3089\u308c\u308b\u3002\u5f0f(1)\u306b\u306f\u89d2\u5ea6$\\theta$ \u306e\u5024\u304c$0$\u3068$2\\pi$ \u306e\u9593\u306b\u5236\u9650\u3055\u308c\u308b\u3068\u3044\u3046\u6761\u4ef6(modulo $2\\pi$)\u3092\u4ed8\u3051\u52a0\u3048\u3066\u3042\u308b\u3002"
     ]
    },
    {
     "cell_type": "markdown",
     "metadata": {},
     "source": [
      "[fig1]: figure_1.png \"\u6483\u529b\u304c\u52a0\u3048\u3089\u308c\u305f\u6163\u6027\u30e2\u30fc\u30e1\u30f3\u30c8$I$\u306e\u68d2\u304b\u3089\u306a\u308b\u56de\u8ee2\u5b50\u3002\u91cd\u529b\u3068\u652f\u70b9\u3067\u306e\u6469\u64e6\u306f\u7121\u8996\u3059\u308b\u3002\"\n",
      "![figure_1.png](figure_1.png)"
     ]
    },
    {
     "cell_type": "markdown",
     "metadata": {},
     "source": [
      "\u5f0f(1),(2)\u306e\u53cd\u5fa9\u8a08\u7b97\u3092\u884c\u3046\u524d\u306b\u3001\u3053\u308c\u3089\u304c\u30cf\u30df\u30eb\u30c8\u30f3\u7cfb\u3001\u3064\u307e\u308a$n$\u3092\u5927\u304d\u304f\u3057\u3066\u3044\u3063\u3066\u3082$q$-$p$\u7a7a\u9593\u306b\u304a\u3051\u308b\u9762\u7a4d\u304c\u4e00\u5b9a\u3067\u3042\u308b\u3053\u3068\u3092\u78ba\u304b\u3081\u3066\u304a\u3053\u3046\u3002(\u3053\u3053\u3067\u306f$q$\u306f$\\theta$\u3092\u6307\u3057\u3066\u3044\u308b\u3002)\u9577\u3055$dq_{n}$\u3068$dp_{n}$\u306e\u9577\u65b9\u5f62\u304b\u3089\u59cb\u3081\u308b\u3053\u3068\u3092\u8003\u3048\u308b\u3068\u30011\u56de\u306e\u53cd\u5fa9\u306e\u5f8c\u3001\u3053\u306e\u9577\u65b9\u5f62\u306f$dq_{n+1}$\u3068$dp_{n+1}$\u306e\u8fba\u3092\u6301\u3064\u5e73\u884c\u56db\u8fba\u5f62\u306b\u5909\u5f62\u3055\u308c\u308b\u3002\u3059\u306a\u308f\u3061\u3001\n",
      "\n",
      "\\begin{equation}\n",
      "    dq_{n+1} = dq_{n} + dp_{n}\n",
      "\\end{equation}\n",
      "\n",
      "\\begin{equation}\n",
      "    dp_{n+1} = dp_{n} + k \\cos q_{n+1} dq_{n+1}\n",
      "\\end{equation}\n",
      "\n",
      "\u3067\u3042\u308b\u3002\u5f0f(3)\u306b(4)\u3092\u4ee3\u5165\u3059\u308b\u3068\u3001\n",
      "\n",
      "\\begin{equation}\n",
      "    dp_{n+1} = (1 + k \\cos q_{n+1})dp_{n} + k\\cos q_{n+1} dq_{n}\n",
      "\\end{equation}\n",
      "\n",
      "\u3092\u5f97\u308b\u3002\u30d9\u30af\u30c8\u30eb__q__$_{n+1} = (dq_{n}, dp_{n})$\u3068__p__$_{n+1} = (1 + k\\cos q_{n}, k\\cos q_{n} dq_{n}))$\u306e\u30d9\u30af\u30c8\u30eb\u7a4d\u306e\u5927\u304d\u3055\u3092\u8a08\u7b97\u3057\u3066\u5e73\u884c\u56db\u8fba\u5f62\u306e\u9762\u7a4d\u3092\u6c42\u3081\u308b\u3068\u3001$dq_{n}dp_{n}$\u3068\u306a\u308a\u3001\u4f4d\u76f8\u7a7a\u9593\u5185\u306e\u9762\u7a4d\u306f\u4e0d\u5909\u3067\u3042\u308a\u3001\u6a19\u6e96\u5199\u50cf\u306f\u4fdd\u5b58\u7cfb\u3067\u3042\u308b\u3053\u3068\u304c\u308f\u304b\u308b\u3002"
     ]
    },
    {
     "cell_type": "markdown",
     "metadata": {},
     "source": [
      "\u6a19\u6e96\u5199\u50cf\u306e\u5b9a\u6027\u7684\u6027\u8cea\u306b\u3064\u3044\u3066\u306f\u554f\u984c6.16\u3067\u8abf\u3079\u308b\u3053\u3068\u3067\u3042\u308b\u304c\u3001\u305d\u308c\u3089\u306f\u6b21\u306e\u3088\u3046\u306b\u8981\u7d04\u3059\u308b\u3053\u3068\u304c\u3067\u304d\u308b\u3002$k=0$\u306e\u3068\u304d\u3001\u68d2\u306f\u904b\u52d5\u91cf$p_{n} = p_{0} = \u4e00\u5b9a$\u306b\u3088\u3063\u3066\u5b9a\u307e\u308b\u4e00\u5b9a\u306e\u89d2\u904b\u52d5\u91cf\u3067\u56de\u8ee2\u3059\u308b\u3002$p_{0}$\u304c$2\\pi$\u306e\u6709\u7406\u6570\u500d\u306e\u3068\u304d\u306b\u306f\u3001\u4f4d\u76f8\u7a7a\u9593\u306e\u8ecc\u8de1\u306f\u3001\u6c34\u5e73\u306a\u7dda\u4e0a\u306b\u3042\u308b\u5b64\u7acb\u3057\u305f\u70b9\u5217\u304b\u3089\u69cb\u6210\u3055\u308c\u308b(\u5171\u9cf4\u30c8\u30fc\u30e9\u30b9)\u3002\u305d\u308c\u306f\u3069\u3046\u3057\u3066\u3060\u308d\u3046\u304b\u3002$p_{0}$\u304c$2\\pi$\u306e\u6709\u7406\u6570\u500d\u3067\u306a\u3044\u304b\u3001\u30b3\u30f3\u30d4\u30e5\u30fc\u30bf\u306b\u5341\u5206\u306a\u7cbe\u5ea6\u304c\u306a\u3044\u3068\u304d\u306b\u306f\u3001\u5341\u5206\u306b\u9577\u3044\u6642\u9593\u306e\u5f8c\u306b\u8ecc\u8de1\u306f\u4f4d\u76f8\u7a7a\u9593\u5185\u306e\u6c34\u5e73\u306a\u66f2\u7dda\u3078\u3068\u5909\u5316\u3059\u308b\u3002\u305d\u3057\u3066\u5171\u6709\u30c8\u30fc\u30e9\u30b9\u306b\u5bfe\u5fdc\u3059\u308b\u5b64\u7acb\u3057\u305f\u70b9\u5217\u306f\u9589\u66f2\u7dda\u3078\u3068\u5909\u5316\u3059\u308b\u3002\u521d\u671f\u6761\u4ef6\u306b\u3088\u3063\u3066\u306f\u3001\u904e\u6e21\u7684\u306a\u632f\u308b\u821e\u3044\u304c\u6d88\u3048\u308b\u304f\u3089\u3044\u306b\u5341\u5206\u9577\u3044\u53cd\u5fa9\u306e\u5f8c\u306b\u3001\u8ecc\u8de1\u306f\u30ab\u30aa\u30b9\u7684\u306b\u306a\u308b\u3060\u308d\u3046\u3002"
     ]
    },
    {
     "cell_type": "heading",
     "level": 2,
     "metadata": {},
     "source": [
      "\u5b9f\u7fd2\u8ab2\u984c"
     ]
    },
    {
     "cell_type": "heading",
     "level": 3,
     "metadata": {},
     "source": [
      "\u554f\u984c a\uff1a"
     ]
    },
    {
     "cell_type": "markdown",
     "metadata": {},
     "source": [
      "\u6a19\u6e96\u5199\u50cf\u306e\u53cd\u5fa9\u3092\u5b9f\u884c\u3059\u308b\u30d7\u30ed\u30b0\u30e9\u30e0\u3092\u66f8\u3044\u3066\u3001\u4f4d\u76f8\u7a7a\u9593\u306e\u8ecc\u8de1\u3092\u63cf\u3051\u3002k\u3092\u5909\u3048\u305f\u3068\u304d\u306e\u6319\u52d5\u3092\u8abf\u3079\u3088\u3002\u7279\u306b\u3001\u4f4d\u76f8\u7a7a\u9593\u5185\u306e\u8ecc\u9053\u306e\u5909\u5316\u306b\u7740\u76ee\u305b\u3088\u3002"
     ]
    },
    {
     "cell_type": "markdown",
     "metadata": {},
     "source": [
      "\u307e\u305a\u3001\u5358\u7d14\u306a\u554f\u984c\u3068\u3057\u3066$k=0$\u3068\u3057\u3066\u56fa\u5b9a\u3057\u305f\u3068\u304d\u3001\u521d\u671f\u6761\u4ef6$p_{0}$\u306e\u5024\u3092\u3055\u307e\u3056\u307e\u306b\u5909\u3048\u305f\u3068\u304d\u306e\u8ecc\u8de1\u306e\u69d8\u5b50\u3092\u56f3\u306b\u793a\u3059\u3002"
     ]
    },
    {
     "cell_type": "code",
     "collapsed": false,
     "input": [
      "%matplotlib inline\n",
      "from IPython.html import widgets\n",
      "from IPython.html.widgets import interact, interactive\n",
      "from math import sin, pi\n",
      "from array import array\n",
      "import matplotlib.pyplot as plt\n",
      "import numpy as np"
     ],
     "language": "python",
     "metadata": {},
     "outputs": []
    },
    {
     "cell_type": "code",
     "collapsed": false,
     "input": [
      "# --- init ---\n",
      "counter = 0\n",
      "colors = ['blue', 'green', 'red', 'purple', 'black']\n",
      "ntransient = 1000\n",
      "nplot = 10000\n",
      "nmax = ntransient + nplot\n",
      "max_p = 0\n",
      "min_p = 0\n",
      "\n",
      "# --- prepare figure and axes ---\n",
      "fig = plt.figure(figsize=(12, 6), dpi=80)\n",
      "ax = fig.add_subplot(111)\n",
      "plt.subplots_adjust(bottom=0.14)\n",
      "plt.subplots_adjust(right=0.68)\n",
      "ax.grid()\n",
      "\n",
      "def static():\n",
      "    global counter\n",
      "    assignment()\n",
      "\n",
      "    color = colors[counter]\n",
      "    counter += 1\n",
      "    if counter >= len(colors):\n",
      "        counter = counter - len(colors)\n",
      "\n",
      "    plot_static(theta, ang_mom, color)\n",
      "\n",
      "def assignment(theta=1.5, p=0.2, k=1.7):\n",
      "    \"\"\" Assign the values to variables and plot the map.\n",
      "    \"\"\"\n",
      "    global theta, ang_mom, k, color\n",
      "\n",
      "def plot_static(q, p, color):\n",
      "    \"\"\" Show an standard map.\n",
      "    \"\"\"\n",
      "    global max_p, min_p\n",
      "    # --- Caluculating ---\n",
      "    ary_q = array('d')\n",
      "    ary_p = array('d')\n",
      "    ary_q.append(q)\n",
      "    ary_p.append(p)\n",
      "\n",
      "    for i in range(nmax + 1):\n",
      "        _q = ary_q[i] + ary_p[i]\n",
      "        # 0 <= theta <= 2*pi\n",
      "        while _q > 2 * pi:\n",
      "            _q = _q - 2 * pi\n",
      "        while _q < 0.:\n",
      "            _q = _q + 2 * pi\n",
      "        ary_q.append(_q)\n",
      "        ary_p.append(ary_p[i] + k * sin(ary_q[i] + ary_p[i]))\n",
      "\n",
      "    # --- Set labels and ticks. ---\n",
      "    plt.xlabel(r'$\\theta$', fontsize=16)\n",
      "    plt.ylabel(r'$p_{\\theta}$', fontsize=16)\n",
      "    plt.title('Standard map')\n",
      "    unit = 0.5\n",
      "    q_tick = np.arange(0, 2.0 + unit, unit)\n",
      "    q_label = [\n",
      "        r\"$0$\", r\"$\\frac{1}{2}\\pi$\", r\"$\\pi$\", r\"$\\frac{3}{2}\\pi$\", r\"$2\\pi$\"]\n",
      "    ax.set_xticks(q_tick * pi)\n",
      "    ax.set_xticklabels(q_label, fontsize=18)\n",
      "    if max(ary_p[ntransient:]) > max_p:\n",
      "        max_p = max(ary_p[ntransient:])\n",
      "    if min(ary_p[ntransient:]) < min_p:\n",
      "        min_p = min(ary_p[ntransient:])\n",
      "    margin = (max_p - min_p) * 0.05\n",
      "    plt.ylim(min_p - margin, max_p + margin)\n",
      "\n",
      "    # --- Plot the standard map. ---\n",
      "    plt.scatter(ary_q[ntransient:], ary_p[ntransient:],\n",
      "                s=2.0, marker='o', color=color,\n",
      "                label=r'$\\theta_{0}=$' + str(theta) + ' : '\n",
      "                + r'$p_{0}=$' + str(ang_mom) + ' : '\n",
      "                + r'$k=$' + repr(k)\n",
      "                )\n",
      "    ax.legend(bbox_to_anchor=(1.05, 1.0), loc='upper left', borderaxespad=0)\n",
      "\n",
      "    plt.show()"
     ],
     "language": "python",
     "metadata": {},
     "outputs": []
    },
    {
     "cell_type": "code",
     "collapsed": false,
     "input": [
      "w = interactive(assignment, theta=(0., 2*np.pi, 0.1), p=1., k=(0., 2., 0.1))\n",
      "display(w)\n",
      "\n",
      "button = widgets.Button(description=\"Run\")\n",
      "display(button)\n",
      "button.on_click(static)"
     ],
     "language": "python",
     "metadata": {},
     "outputs": []
    },
    {
     "cell_type": "markdown",
     "metadata": {},
     "source": [
      "\u3053\u306e\u56f3\u306f\u3001\u5468\u671f\u7684\u306a\u6483\u529b\u304c\u306a\u3044\u3068\u304d\u306b\u3001\u68d2\u306f\u521d\u3081\u306e\u89d2\u904b\u52d5\u91cf\u3092\u4fdd\u3063\u305f\u307e\u307e\u56de\u8ee2\u3092\u7d9a\u3051\u308b\u3068\u3044\u3046\u4e8b\u5b9f\u3092\u518d\u73fe\u3057\u3066\u3044\u308b\u3002"
     ]
    },
    {
     "cell_type": "markdown",
     "metadata": {},
     "source": [
      "\u307e\u305a\u3001\u5358\u7d14\u306a\u554f\u984c\u3068\u3057\u3066$k=0$(\u3059\u306a\u308f\u3061\u5468\u671f\u7684\u306a\u6483\u529b\u304c\u306a\u3044\u3068\u304d)\u3068\u3057\u3066\u56fa\u5b9a\u3057\u305f\u3068\u304d\u3001\u68d2\u306f\u521d\u3081\u306e\u89d2\u904b\u52d5\u91cf\u3092\u4fdd\u3063\u305f\u307e\u307e\u56de\u8ee2\u3092\u7d9a\u3051\u308b\u3068\u3044\u3046\u73fe\u8c61\u3092\u518d\u73fe\u3057\u3066\u3044\u308b\u3002\n",
      "\n",
      "\u6b21\u306b\u3001$\\theta_{0}$\u3068$p_{0}$\u3092\u56fa\u5b9a\u3057\u3066\u3001$k$\u3092$k=0.1, 1.0, 1.7, 1.99694994, 1.99694995, 2.0$\u3068\u3057\u305f\u3068\u304d\u306e\u4f4d\u76f8\u7a7a\u9593\u306e\u8ecc\u8de1\u3092\u8003\u3048\u308b\u3068\u3001$k$\u304c\u5927\u304d\u304f\u306a\u308b\u306b\u3064\u308c\u3066\u66f2\u7dda\u3084\u9589\u66f2\u7dda\u3067\u3042\u3063\u305f\u8ecc\u8de1\u304c\u5206\u5c90\u3057\u3066\u3044\u304f\u3088\u3046\u306b\u306a\u308a\u3001\u30c8\u30fc\u30e9\u30b9\u306e\u5cf6\u3068\u547c\u3070\u308c\u308b\u74b0\u72b6\u306e\u8ecc\u8de1\u304c\u73fe\u308c\u308b\u69d8\u5b50\u3082\u89b3\u5bdf\u3055\u308c\u308b\u3002\u307e\u305f\u3001$k$\u304c\u3042\u308b\u5024$k=k_{c}$\u4ee5\u4e0a\u306b\u306a\u308b\u3068\u3001\u305d\u306e\u66f2\u7dda\u304b\u3089\u3055\u3089\u306b\u96e2\u308c\u305f\u4f4d\u7f6e\u3092\u53d6\u308b\u3088\u3046\u306b\u306a\u3063\u3066\u3001\u30ab\u30aa\u30b9\u7684\u306a\u632f\u308b\u821e\u3044\u3092\u793a\u3059\u3053\u3068\u3082\u5206\u304b\u308b\u3002\u3053\u306e$k_{c}$\u306e\u5024\u306f\u3001\u521d\u671f\u5024\u306b\u3088\u3063\u3066\u5909\u308f\u308b\u3053\u3068\u3082\u78ba\u304b\u3081\u308b\u3053\u3068\u304c\u3067\u304d\u305f\u3002"
     ]
    },
    {
     "cell_type": "heading",
     "level": 2,
     "metadata": {},
     "source": [
      "\u307e\u3068\u3081"
     ]
    },
    {
     "cell_type": "markdown",
     "metadata": {},
     "source": [
      "\u30cf\u30df\u30eb\u30c8\u30f3\u7cfb\u306e\u5358\u7d14\u306a\u4f8b\u3067\u3042\u308b\u6a19\u6e96\u8eca\u50cf\u306b\u3064\u3044\u3066\u3001$k$\u306b\u3088\u308b\u4f4d\u76f8\u7a7a\u9593\u3067\u306e\u8ecc\u8de1\u306e\u5909\u5316\u3092\u89b3\u5bdf\u3059\u308b\u3053\u3068\u304c\u3067\u304d\u305f\u3002"
     ]
    },
    {
     "cell_type": "heading",
     "level": 2,
     "metadata": {},
     "source": [
      "\u53c2\u8003\u6587\u732e"
     ]
    },
    {
     "cell_type": "markdown",
     "metadata": {},
     "source": [
      "- \u30cf\u30fc\u30d9\u30a4\u30fb\u30b4\u30fc\u30eb\u30c9,\u30b8\u30e3\u30f3\u30fb\u30c8\u30dc\u30c1\u30cb\u30af,\u77f3\u5ddd\u6b63\u52dd\u30fb\u5bae\u5cf6\u4f50\u4ecb\u8a33\u300e\u8a08\u7b97\u7269\u7406\u5b66\u5165\u9580\u300f,\u30d4\u30a2\u30bd\u30f3\u30fb\u30a8\u30c7\u30e5\u30b1\u30fc\u30b7\u30e7\u30f3, 2000."
     ]
    }
   ],
   "metadata": {}
  }
 ]
}